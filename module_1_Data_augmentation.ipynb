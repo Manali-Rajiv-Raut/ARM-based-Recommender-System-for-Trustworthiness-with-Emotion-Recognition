{
 "cells": [
  {
   "cell_type": "markdown",
   "metadata": {},
   "source": [
    "## Module 1 :  Data Augmentation for ISEAR Dataset"
   ]
  },
  {
   "cell_type": "code",
   "execution_count": 1,
   "metadata": {},
   "outputs": [
    {
     "data": {
      "image/png": "[encoded data removed]",
      "text/plain": [
       "<PIL.PngImagePlugin.PngImageFile image mode=RGBA size=695x120 at 0x1B43D78E1C8>"
      ]
     },
     "execution_count": 1,
     "metadata": {},
     "output_type": "execute_result"
    }
   ],
   "source": [
    "from PIL import Image\n",
    "Image.open(\"arc_1.png\")"
   ]
  },
  {
   "cell_type": "code",
   "execution_count": null,
   "metadata": {
    "id": "JjbP5a5r9FO0"
   },
   "outputs": [],
   "source": [
    "#https://stackoverflow.com/questions/17037668/how-to-disable-cookie-handling-with-the-python-requests-library\n",
    "from http import cookiejar  # Python 2: import cookielib as cookiejar\n",
    "class BlockAll(cookiejar.CookiePolicy):\n",
    "    return_ok = set_ok = domain_return_ok = path_return_ok = lambda self, *args, **kwargs: False\n",
    "    netscape = True\n",
    "    rfc2965 = hide_cookie2 = False"
   ]
  },
  {
   "cell_type": "code",
   "execution_count": null,
   "metadata": {
    "colab": {
     "base_uri": "https://localhost:8080/"
    },
    "id": "oKV3SeNK7wKR",
    "outputId": "79ae08d4-d720-48ce-e4e6-c8c9b47e9747"
   },
   "outputs": [
    {
     "name": "stdout",
     "output_type": "stream",
     "text": [
      "Requirement already satisfied: textaugment in /usr/local/lib/python3.6/dist-packages (1.3.4)\n",
      "Requirement already satisfied: gensim in /usr/local/lib/python3.6/dist-packages (3.6.0)\n",
      "Requirement already satisfied: numpy in /usr/local/lib/python3.6/dist-packages (from textaugment) (1.18.5)\n",
      "Requirement already satisfied: nltk in /usr/local/lib/python3.6/dist-packages (from textaugment) (3.2.5)\n",
      "Requirement already satisfied: googletrans in /usr/local/lib/python3.6/dist-packages (from textaugment) (3.0.0)\n",
      "Requirement already satisfied: textblob in /usr/local/lib/python3.6/dist-packages (from textaugment) (0.15.3)\n",
      "Requirement already satisfied: smart-open>=1.2.1 in /usr/local/lib/python3.6/dist-packages (from gensim) (4.0.1)\n",
      "Requirement already satisfied: six>=1.5.0 in /usr/local/lib/python3.6/dist-packages (from gensim) (1.15.0)\n",
      "Requirement already satisfied: scipy>=0.18.1 in /usr/local/lib/python3.6/dist-packages (from gensim) (1.4.1)\n",
      "Requirement already satisfied: httpx==0.13.3 in /usr/local/lib/python3.6/dist-packages (from googletrans->textaugment) (0.13.3)\n",
      "Requirement already satisfied: idna==2.* in /usr/local/lib/python3.6/dist-packages (from httpx==0.13.3->googletrans->textaugment) (2.10)\n",
      "Requirement already satisfied: chardet==3.* in /usr/local/lib/python3.6/dist-packages (from httpx==0.13.3->googletrans->textaugment) (3.0.4)\n",
      "Requirement already satisfied: certifi in /usr/local/lib/python3.6/dist-packages (from httpx==0.13.3->googletrans->textaugment) (2020.12.5)\n",
      "Requirement already satisfied: httpcore==0.9.* in /usr/local/lib/python3.6/dist-packages (from httpx==0.13.3->googletrans->textaugment) (0.9.1)\n",
      "Requirement already satisfied: sniffio in /usr/local/lib/python3.6/dist-packages (from httpx==0.13.3->googletrans->textaugment) (1.2.0)\n",
      "Requirement already satisfied: hstspreload in /usr/local/lib/python3.6/dist-packages (from httpx==0.13.3->googletrans->textaugment) (2020.11.21)\n",
      "Requirement already satisfied: rfc3986<2,>=1.3 in /usr/local/lib/python3.6/dist-packages (from httpx==0.13.3->googletrans->textaugment) (1.4.0)\n",
      "Requirement already satisfied: h11<0.10,>=0.8 in /usr/local/lib/python3.6/dist-packages (from httpcore==0.9.*->httpx==0.13.3->googletrans->textaugment) (0.9.0)\n",
      "Requirement already satisfied: h2==3.* in /usr/local/lib/python3.6/dist-packages (from httpcore==0.9.*->httpx==0.13.3->googletrans->textaugment) (3.2.0)\n",
      "Requirement already satisfied: contextvars>=2.1; python_version < \"3.7\" in /usr/local/lib/python3.6/dist-packages (from sniffio->httpx==0.13.3->googletrans->textaugment) (2.4)\n",
      "Requirement already satisfied: hyperframe<6,>=5.2.0 in /usr/local/lib/python3.6/dist-packages (from h2==3.*->httpcore==0.9.*->httpx==0.13.3->googletrans->textaugment) (5.2.0)\n",
      "Requirement already satisfied: hpack<4,>=3.0 in /usr/local/lib/python3.6/dist-packages (from h2==3.*->httpcore==0.9.*->httpx==0.13.3->googletrans->textaugment) (3.0.0)\n",
      "Requirement already satisfied: immutables>=0.9 in /usr/local/lib/python3.6/dist-packages (from contextvars>=2.1; python_version < \"3.7\"->sniffio->httpx==0.13.3->googletrans->textaugment) (0.14)\n"
     ]
    }
   ],
   "source": [
    "!pip install textaugment gensim"
   ]
  },
  {
   "cell_type": "code",
   "execution_count": null,
   "metadata": {
    "colab": {
     "base_uri": "https://localhost:8080/"
    },
    "id": "zNAODdXc7z1B",
    "outputId": "ca6d0cea-c640-4647-aeb4-7fe7cacb5d66"
   },
   "outputs": [
    {
     "name": "stdout",
     "output_type": "stream",
     "text": [
      "Requirement already satisfied: roundtrip in /usr/local/lib/python3.6/dist-packages (0.1.1)\n",
      "Requirement already satisfied: mtranslate in /usr/local/lib/python3.6/dist-packages (from roundtrip) (1.7)\n",
      "Collecting google.cloud.translate\n",
      "  Using cached https://files.pythonhosted.org/packages/b9/bf/bdd34a6c8b308aa8d1a2ead03fa14cd1bdc4fd9b6c649b12bd47f3ebcab9/google_cloud_translate-3.0.2-py2.py3-none-any.whl\n",
      "Requirement already satisfied: google-api-core[grpc]<2.0.0dev,>=1.22.0 in /usr/local/lib/python3.6/dist-packages (from google.cloud.translate->roundtrip) (1.24.1)\n",
      "Requirement already satisfied: proto-plus>=0.4.0 in /usr/local/lib/python3.6/dist-packages (from google.cloud.translate->roundtrip) (1.13.0)\n",
      "Requirement already satisfied: google-cloud-core<2.0dev,>=1.1.0 in /usr/local/lib/python3.6/dist-packages (from google.cloud.translate->roundtrip) (1.5.0)\n",
      "Requirement already satisfied: libcst>=0.2.5 in /usr/local/lib/python3.6/dist-packages (from google.cloud.translate->roundtrip) (0.3.16)\n",
      "Requirement already satisfied: google-auth<2.0dev,>=1.21.1 in /usr/local/lib/python3.6/dist-packages (from google-api-core[grpc]<2.0.0dev,>=1.22.0->google.cloud.translate->roundtrip) (1.24.0)\n",
      "Requirement already satisfied: protobuf>=3.12.0 in /usr/local/lib/python3.6/dist-packages (from google-api-core[grpc]<2.0.0dev,>=1.22.0->google.cloud.translate->roundtrip) (3.12.4)\n",
      "Requirement already satisfied: six>=1.13.0 in /usr/local/lib/python3.6/dist-packages (from google-api-core[grpc]<2.0.0dev,>=1.22.0->google.cloud.translate->roundtrip) (1.15.0)\n",
      "Requirement already satisfied: pytz in /usr/local/lib/python3.6/dist-packages (from google-api-core[grpc]<2.0.0dev,>=1.22.0->google.cloud.translate->roundtrip) (2018.9)\n",
      "Requirement already satisfied: setuptools>=34.0.0 in /usr/local/lib/python3.6/dist-packages (from google-api-core[grpc]<2.0.0dev,>=1.22.0->google.cloud.translate->roundtrip) (50.3.2)\n",
      "Requirement already satisfied: requests<3.0.0dev,>=2.18.0 in /usr/local/lib/python3.6/dist-packages (from google-api-core[grpc]<2.0.0dev,>=1.22.0->google.cloud.translate->roundtrip) (2.23.0)\n",
      "Requirement already satisfied: googleapis-common-protos<2.0dev,>=1.6.0 in /usr/local/lib/python3.6/dist-packages (from google-api-core[grpc]<2.0.0dev,>=1.22.0->google.cloud.translate->roundtrip) (1.52.0)\n",
      "Requirement already satisfied: grpcio<2.0dev,>=1.29.0; extra == \"grpc\" in /usr/local/lib/python3.6/dist-packages (from google-api-core[grpc]<2.0.0dev,>=1.22.0->google.cloud.translate->roundtrip) (1.34.0)\n",
      "Requirement already satisfied: typing-inspect>=0.4.0 in /usr/local/lib/python3.6/dist-packages (from libcst>=0.2.5->google.cloud.translate->roundtrip) (0.6.0)\n",
      "Requirement already satisfied: dataclasses>=0.6.0; python_version < \"3.7\" in /usr/local/lib/python3.6/dist-packages (from libcst>=0.2.5->google.cloud.translate->roundtrip) (0.8)\n",
      "Requirement already satisfied: typing-extensions>=3.7.4.2 in /usr/local/lib/python3.6/dist-packages (from libcst>=0.2.5->google.cloud.translate->roundtrip) (3.7.4.3)\n",
      "Requirement already satisfied: pyyaml>=5.2 in /usr/local/lib/python3.6/dist-packages (from libcst>=0.2.5->google.cloud.translate->roundtrip) (5.3.1)\n",
      "Requirement already satisfied: cachetools<5.0,>=2.0.0 in /usr/local/lib/python3.6/dist-packages (from google-auth<2.0dev,>=1.21.1->google-api-core[grpc]<2.0.0dev,>=1.22.0->google.cloud.translate->roundtrip) (4.1.1)\n",
      "Requirement already satisfied: pyasn1-modules>=0.2.1 in /usr/local/lib/python3.6/dist-packages (from google-auth<2.0dev,>=1.21.1->google-api-core[grpc]<2.0.0dev,>=1.22.0->google.cloud.translate->roundtrip) (0.2.8)\n",
      "Requirement already satisfied: rsa<5,>=3.1.4; python_version >= \"3.6\" in /usr/local/lib/python3.6/dist-packages (from google-auth<2.0dev,>=1.21.1->google-api-core[grpc]<2.0.0dev,>=1.22.0->google.cloud.translate->roundtrip) (4.6)\n",
      "Requirement already satisfied: chardet<4,>=3.0.2 in /usr/local/lib/python3.6/dist-packages (from requests<3.0.0dev,>=2.18.0->google-api-core[grpc]<2.0.0dev,>=1.22.0->google.cloud.translate->roundtrip) (3.0.4)\n",
      "Requirement already satisfied: certifi>=2017.4.17 in /usr/local/lib/python3.6/dist-packages (from requests<3.0.0dev,>=2.18.0->google-api-core[grpc]<2.0.0dev,>=1.22.0->google.cloud.translate->roundtrip) (2020.12.5)\n",
      "Requirement already satisfied: urllib3!=1.25.0,!=1.25.1,<1.26,>=1.21.1 in /usr/local/lib/python3.6/dist-packages (from requests<3.0.0dev,>=2.18.0->google-api-core[grpc]<2.0.0dev,>=1.22.0->google.cloud.translate->roundtrip) (1.24.3)\n",
      "Requirement already satisfied: idna<3,>=2.5 in /usr/local/lib/python3.6/dist-packages (from requests<3.0.0dev,>=2.18.0->google-api-core[grpc]<2.0.0dev,>=1.22.0->google.cloud.translate->roundtrip) (2.10)\n",
      "Requirement already satisfied: mypy-extensions>=0.3.0 in /usr/local/lib/python3.6/dist-packages (from typing-inspect>=0.4.0->libcst>=0.2.5->google.cloud.translate->roundtrip) (0.4.3)\n",
      "Requirement already satisfied: pyasn1<0.5.0,>=0.4.6 in /usr/local/lib/python3.6/dist-packages (from pyasn1-modules>=0.2.1->google-auth<2.0dev,>=1.21.1->google-api-core[grpc]<2.0.0dev,>=1.22.0->google.cloud.translate->roundtrip) (0.4.8)\n",
      "Installing collected packages: google.cloud.translate\n",
      "Successfully installed google.cloud.translate\n"
     ]
    }
   ],
   "source": [
    "!pip install roundtrip"
   ]
  },
  {
   "cell_type": "code",
   "execution_count": 1,
   "metadata": {
    "id": "ZFKRB4nE8AJO"
   },
   "outputs": [],
   "source": [
    "import pandas as pd\n",
    "import numpy as np\n",
    "from nltk.tokenize import word_tokenize\n",
    "import re\n",
    "import nltk\n",
    "import random"
   ]
  },
  {
   "cell_type": "code",
   "execution_count": null,
   "metadata": {},
   "outputs": [],
   "source": [
    "import textaugment, gensim\n",
    "from textaugment import Word2vec\n",
    "from textaugment import Wordnet\n",
    "#from textaugment import Translate\n",
    "from roundtrip import backtranslate\n",
    "from sklearn.utils import shuffle"
   ]
  },
  {
   "cell_type": "code",
   "execution_count": null,
   "metadata": {
    "colab": {
     "base_uri": "https://localhost:8080/"
    },
    "id": "4s9F1sfj8Pmo",
    "outputId": "ade54ad1-b320-4583-b6dc-eb69a3ef7074"
   },
   "outputs": [
    {
     "name": "stdout",
     "output_type": "stream",
     "text": [
      "[nltk_data] Downloading package wordnet to /root/nltk_data...\n",
      "[nltk_data]   Package wordnet is already up-to-date!\n",
      "[nltk_data] Downloading package punkt to /root/nltk_data...\n",
      "[nltk_data]   Package punkt is already up-to-date!\n",
      "[nltk_data] Downloading package averaged_perceptron_tagger to\n",
      "[nltk_data]     /root/nltk_data...\n",
      "[nltk_data]   Package averaged_perceptron_tagger is already up-to-\n",
      "[nltk_data]       date!\n"
     ]
    },
    {
     "data": {
      "text/plain": [
       "True"
      ]
     },
     "execution_count": 6,
     "metadata": {
      "tags": []
     },
     "output_type": "execute_result"
    }
   ],
   "source": [
    "import nltk\n",
    "nltk.download(['wordnet','punkt','averaged_perceptron_tagger'])"
   ]
  },
  {
   "cell_type": "code",
   "execution_count": null,
   "metadata": {
    "colab": {
     "base_uri": "https://localhost:8080/"
    },
    "id": "DTnmC_LD8SQb",
    "outputId": "b2a2b1ce-f3ce-44c0-9539-a3740f7cd087"
   },
   "outputs": [
    {
     "name": "stdout",
     "output_type": "stream",
     "text": [
      "--2020-12-17 14:01:37--  https://s3.amazonaws.com/dl4j-distribution/GoogleNews-vectors-negative300.bin.gz\n",
      "Resolving s3.amazonaws.com (s3.amazonaws.com)... 52.216.17.163\n",
      "Connecting to s3.amazonaws.com (s3.amazonaws.com)|52.216.17.163|:443... connected.\n",
      "HTTP request sent, awaiting response... 200 OK\n",
      "Length: 1647046227 (1.5G) [application/x-gzip]\n",
      "Saving to: ‘GoogleNews-vectors-negative300.bin.gz.1’\n",
      "\n",
      "GoogleNews-vectors- 100%[===================>]   1.53G  37.5MB/s    in 36s     \n",
      "\n",
      "2020-12-17 14:02:13 (43.4 MB/s) - ‘GoogleNews-vectors-negative300.bin.gz.1’ saved [1647046227/1647046227]\n",
      "\n"
     ]
    }
   ],
   "source": [
    "# Load Google Word2vec embeddings\n",
    "!wget \"https://s3.amazonaws.com/dl4j-distribution/GoogleNews-vectors-negative300.bin.gz\""
   ]
  },
  {
   "cell_type": "code",
   "execution_count": null,
   "metadata": {
    "id": "WkNsHBwc9m4p"
   },
   "outputs": [],
   "source": [
    "import requests"
   ]
  },
  {
   "cell_type": "markdown",
   "metadata": {},
   "source": [
    "# 1. Data Augmentation class "
   ]
  },
  {
   "cell_type": "code",
   "execution_count": null,
   "metadata": {
    "id": "n7MlwHRE8VwX"
   },
   "outputs": [],
   "source": [
    "class Data_Augmentation :\n",
    "  def __init__(self,per,Word2vec=True, Wordnet = False ,Round_Trip_Translation = False):\n",
    "    #self.data = data\n",
    "    self.per = per\n",
    "    self.Word2vec = Word2vec                                  #first augmented method\n",
    "    self.Wordnet = Wordnet                                    # second augmented method\n",
    "    self.Round_Trip_Translation = Round_Trip_Translation      # third augmented method\n",
    "    #self.Word2vec_function1 = Word2vec_function1\n",
    "\n",
    "  def Word2vec_function1(self ,dataset ,input_idx , target_idx, len_of_aug_data )  :\n",
    "    model = gensim.models.KeyedVectors.load_word2vec_format('./GoogleNews-vectors-negative300.bin.gz', binary=True)\n",
    "    #print(model)\n",
    "    t = Word2vec(model=model)\n",
    "    for r in range(0,len_of_aug_data):                             # how much data you want to increse is a len_of_aug_data\n",
    "      dataset=shuffle(dataset)                                     # shuffling the dataset to always get random index value\n",
    "      sentence = t.augment(dataset.iloc[:,input_idx][r])           # augmenting sentence with particular index\n",
    "      label = dataset.iloc[:,target_idx][r]                        # extracting lable from that index\n",
    "      #print(sentence)\n",
    "      new_data = pd.DataFrame([[sentence, label] ],columns=[dataset.columns[input_idx],dataset.columns[target_idx]])\n",
    "      #print(new_data)        # creating single df of output with sentence and label\n",
    "      dataset = dataset.append(new_data, ignore_index=True)        # appending the data to base dataset i.e. ISEAR dataset\n",
    "    #print(dataset.shape)\n",
    "    return dataset\n",
    "\n",
    "  def Wordnet_function(self , dataset ,input_idx , target_idx ,len_of_aug_data):\n",
    "    t = Wordnet()\n",
    "    for r in range(0,len_of_aug_data):\n",
    "      dataset=shuffle(dataset)\n",
    "      sentence = t.augment(dataset.iloc[:,input_idx][r])\n",
    "      label = dataset.iloc[:,target_idx][r]\n",
    "      #print(sentence)\n",
    "      new_data = pd.DataFrame([[sentence, label] ],columns=[dataset.columns[input_idx],dataset.columns[target_idx]])\n",
    "      #print(new_data)\n",
    "      dataset = dataset.append(new_data, ignore_index=True)\n",
    "    #print(dataset.shape)\n",
    "    return dataset\n",
    "\n",
    "  #https://github.com/samhavens/roundtrip\n",
    "  def RTT_function(self , dataset ,input_idx , target_idx ,len_of_aug_data) :\n",
    "    for r in range(0,len_of_aug_data):\n",
    "      dataset=shuffle(dataset)\n",
    "      sentence = backtranslate(dataset.iloc[:,input_idx][r], \"de\")\n",
    "      label = dataset.iloc[:,target_idx][r]\n",
    "      #print(sentence)\n",
    "      new_data = pd.DataFrame([[sentence, label]],columns=[dataset.columns[input_idx],dataset.columns[target_idx]])\n",
    "      #print(new_data)\n",
    "      dataset = dataset.append(new_data, ignore_index=True)\n",
    "    #print(dataset.shape)\n",
    "    return dataset\n",
    "\n",
    "  # from whole dataset which column need to be augmented ? \n",
    "  def augmentation(self,data,input_idx , target_idx):           \n",
    "    if type(data) == pd.core.series.Series:                     # if the givne datatype is series or list or numpy array\n",
    "      data = pd.DataFrame(data)                                 # it will get converted into standard Dataframe format\n",
    "    elif type(data) == list or type(data) == np.ndarray:        # for further calculations\n",
    "      data = pd.DataFrame(data = data)\n",
    "    else:\n",
    "      pass\n",
    " \n",
    "    len_of_data = data.shape[0]                                 # the counter will increase a/c to selected method \n",
    "    counter = 0                                                 # so the data will get partion a/c to that\n",
    "    if self.Word2vec == True:                                   # if one method selected 1 partion \n",
    "      counter += 1                                              # if two method selected 2 partitions\n",
    "    if self.Wordnet == True:\n",
    "      counter +=1\n",
    "    if self.Round_Trip_Translation == True:\n",
    "      counter +=1\n",
    " \n",
    "    partition = self.per/counter                                # dataset will be partitioned \n",
    "    #print(partition)\n",
    "    len_word2vec = 0 \n",
    "    len_wordnet = 0\n",
    "    len_rtt = 0\n",
    "\n",
    "    s = requests.Session()\n",
    "    s.cookies.set_policy(BlockAll())\n",
    "    \n",
    "    # if all three methods are selected , 3 partions of the data\n",
    "    if self.Word2vec == True and self.Wordnet == True and self.Round_Trip_Translation == True :\n",
    "      len_word2vec = int((partition /100)*len_of_data)\n",
    "      len_wordnet = int(( partition /100 )*len_of_data)\n",
    "      len_rtt = int((( self.per-partition*2) / 100)*len_of_data) \n",
    "    # two methods are selected : wordnet and RTT .\n",
    "    elif self.Word2vec == False and self.Wordnet == True and self.Round_Trip_Translation == True :\n",
    "      len_wordnet = int((partition / 100)*len_of_data)\n",
    "      len_rtt = int(((self.per-partition)/100)*len_of_data )\n",
    "    # two methods selected : word2vec and RTT\n",
    "    elif self.Word2vec == True and self.Wordnet == False and self.Round_Trip_Translation == True :\n",
    "      len_word2vec = int(( partition / 100)*len_of_data)\n",
    "      len_rtt = int(((self.per-partition) /100)*len_of_data)\n",
    "    # two methods selected : word2vec and wordnet\n",
    "    elif self.Word2vec == True and self.Wordnet == True and self.Round_Trip_Translation == False :\n",
    "      len_word2vec = int(( partition / 100)*len_of_data)\n",
    "      len_wordnet = int(((self.per-partition)/100)*len_of_data )\n",
    "    #only one method selected : word2vec\n",
    "    elif self.Word2vec == True and self.Wordnet == False and self.Round_Trip_Translation == False :\n",
    "      len_word2vec = int(( partition / 100)*len_of_data)\n",
    "    # only one method selected : Wrdnet\n",
    "    elif self.Word2vec == False and self.Wordnet == True and self.Round_Trip_Translation == False :\n",
    "      len_wordnet = int(( partition / 100)*len_of_data)\n",
    "    # only one augmented method : Word2vec\n",
    "    elif self.Word2vec == False and self.Wordnet == False and self.Round_Trip_Translation == True :\n",
    "      len_rtt = int(( partition / 100)*len_of_data)\n",
    "    else:\n",
    "      print(\"Select atlesat one augmentation method\")\n",
    "      \n",
    "\n",
    "    if self.Word2vec == True:\n",
    "      data = shuffle(data)\n",
    "      data = self.Word2vec_function1(data ,input_idx , target_idx, len_word2vec )\n",
    "\n",
    "    if self.Wordnet == True:\n",
    "      data = shuffle(data)\n",
    "      data = self.Wordnet_function(data ,input_idx , target_idx , len_wordnet)\n",
    "\n",
    "    if self.Round_Trip_Translation == True:\n",
    "      data = shuffle(data)\n",
    "      data = self.RTT_function(data ,input_idx , target_idx , len_rtt)\n",
    "    #print(data.shape)\n",
    "    return data  "
   ]
  },
  {
   "cell_type": "code",
   "execution_count": null,
   "metadata": {
    "colab": {
     "base_uri": "https://localhost:8080/"
    },
    "id": "fCBP8ClC8iti",
    "outputId": "4188bcae-15c3-4145-84a6-7b0771361048"
   },
   "outputs": [
    {
     "name": "stdout",
     "output_type": "stream",
     "text": [
      "Drive already mounted at /content/gdrive; to attempt to forcibly remount, call drive.mount(\"/content/gdrive\", force_remount=True).\n"
     ]
    }
   ],
   "source": [
    "from google.colab import drive\n",
    "drive.mount('/content/gdrive')"
   ]
  },
  {
   "cell_type": "markdown",
   "metadata": {},
   "source": [
    "## 2. Loading the Data "
   ]
  },
  {
   "cell_type": "code",
   "execution_count": 5,
   "metadata": {
    "id": "diKl08aT8rog"
   },
   "outputs": [],
   "source": [
    "# bad lines wih too much commas will be dropped\n",
    "isear_data = pd.read_csv(\"/content/gdrive/MyDrive/CS1/Data/isear.csv\",delimiter = \"|\",error_bad_lines=False , warn_bad_lines=False) "
   ]
  },
  {
   "cell_type": "code",
   "execution_count": null,
   "metadata": {
    "colab": {
     "base_uri": "https://localhost:8080/",
     "height": 327
    },
    "id": "0-jAy1YeGfWu",
    "outputId": "8ffd3e31-3472-4eaf-ad56-e8f7b96dab09"
   },
   "outputs": [
    {
     "data": {
      "text/html": [
       "<div>\n",
       "<style scoped>\n",
       "    .dataframe tbody tr th:only-of-type {\n",
       "        vertical-align: middle;\n",
       "    }\n",
       "\n",
       "    .dataframe tbody tr th {\n",
       "        vertical-align: top;\n",
       "    }\n",
       "\n",
       "    .dataframe thead th {\n",
       "        text-align: right;\n",
       "    }\n",
       "</style>\n",
       "<table border=\"1\" class=\"dataframe\">\n",
       "  <thead>\n",
       "    <tr style=\"text-align: right;\">\n",
       "      <th></th>\n",
       "      <th>ID</th>\n",
       "      <th>CITY</th>\n",
       "      <th>COUN</th>\n",
       "      <th>SUBJ</th>\n",
       "      <th>SEX</th>\n",
       "      <th>AGE</th>\n",
       "      <th>RELI</th>\n",
       "      <th>PRAC</th>\n",
       "      <th>FOCC</th>\n",
       "      <th>MOCC</th>\n",
       "      <th>FIEL</th>\n",
       "      <th>EMOT</th>\n",
       "      <th>WHEN</th>\n",
       "      <th>LONG</th>\n",
       "      <th>INTS</th>\n",
       "      <th>ERGO</th>\n",
       "      <th>TROPHO</th>\n",
       "      <th>TEMPER</th>\n",
       "      <th>EXPRES</th>\n",
       "      <th>MOVE</th>\n",
       "      <th>EXP1</th>\n",
       "      <th>EXP2</th>\n",
       "      <th>EXP10</th>\n",
       "      <th>PARAL</th>\n",
       "      <th>CON</th>\n",
       "      <th>EXPC</th>\n",
       "      <th>PLEA</th>\n",
       "      <th>PLAN</th>\n",
       "      <th>FAIR</th>\n",
       "      <th>CAUS</th>\n",
       "      <th>COPING</th>\n",
       "      <th>MORL</th>\n",
       "      <th>SELF</th>\n",
       "      <th>RELA</th>\n",
       "      <th>VERBAL</th>\n",
       "      <th>NEUTRO</th>\n",
       "      <th>Field1</th>\n",
       "      <th>Field3</th>\n",
       "      <th>Field2</th>\n",
       "      <th>MYKEY</th>\n",
       "      <th>SIT</th>\n",
       "      <th>STATE</th>\n",
       "      <th>Unnamed: 42</th>\n",
       "    </tr>\n",
       "  </thead>\n",
       "  <tbody>\n",
       "    <tr>\n",
       "      <th>0</th>\n",
       "      <td>11001</td>\n",
       "      <td>1</td>\n",
       "      <td>1</td>\n",
       "      <td>1</td>\n",
       "      <td>1</td>\n",
       "      <td>33</td>\n",
       "      <td>1</td>\n",
       "      <td>2</td>\n",
       "      <td>6</td>\n",
       "      <td>1</td>\n",
       "      <td>2</td>\n",
       "      <td>1</td>\n",
       "      <td>4</td>\n",
       "      <td>4</td>\n",
       "      <td>3</td>\n",
       "      <td>0</td>\n",
       "      <td>0</td>\n",
       "      <td>1</td>\n",
       "      <td>1</td>\n",
       "      <td>0</td>\n",
       "      <td>1</td>\n",
       "      <td>0</td>\n",
       "      <td>0</td>\n",
       "      <td>0</td>\n",
       "      <td>1</td>\n",
       "      <td>2</td>\n",
       "      <td>1</td>\n",
       "      <td>1</td>\n",
       "      <td>1</td>\n",
       "      <td>4</td>\n",
       "      <td>4</td>\n",
       "      <td>2</td>\n",
       "      <td>3</td>\n",
       "      <td>3</td>\n",
       "      <td>2</td>\n",
       "      <td>0</td>\n",
       "      <td>joy</td>\n",
       "      <td>4</td>\n",
       "      <td>3</td>\n",
       "      <td>110011</td>\n",
       "      <td>During the period of falling in love, each tim...</td>\n",
       "      <td>1</td>\n",
       "      <td>NaN</td>\n",
       "    </tr>\n",
       "    <tr>\n",
       "      <th>1</th>\n",
       "      <td>11001</td>\n",
       "      <td>1</td>\n",
       "      <td>1</td>\n",
       "      <td>1</td>\n",
       "      <td>1</td>\n",
       "      <td>33</td>\n",
       "      <td>1</td>\n",
       "      <td>2</td>\n",
       "      <td>6</td>\n",
       "      <td>1</td>\n",
       "      <td>2</td>\n",
       "      <td>2</td>\n",
       "      <td>4</td>\n",
       "      <td>3</td>\n",
       "      <td>2</td>\n",
       "      <td>2</td>\n",
       "      <td>0</td>\n",
       "      <td>0</td>\n",
       "      <td>1</td>\n",
       "      <td>0</td>\n",
       "      <td>0</td>\n",
       "      <td>0</td>\n",
       "      <td>0</td>\n",
       "      <td>2</td>\n",
       "      <td>1</td>\n",
       "      <td>1</td>\n",
       "      <td>3</td>\n",
       "      <td>0</td>\n",
       "      <td>2</td>\n",
       "      <td>2</td>\n",
       "      <td>1</td>\n",
       "      <td>3</td>\n",
       "      <td>2</td>\n",
       "      <td>2</td>\n",
       "      <td>0</td>\n",
       "      <td>0</td>\n",
       "      <td>fear</td>\n",
       "      <td>3</td>\n",
       "      <td>2</td>\n",
       "      <td>110012</td>\n",
       "      <td>When I was involved in a traffic accident.</td>\n",
       "      <td>1</td>\n",
       "      <td>NaN</td>\n",
       "    </tr>\n",
       "  </tbody>\n",
       "</table>\n",
       "</div>"
      ],
      "text/plain": [
       "      ID  CITY  ...  STATE  Unnamed: 42\n",
       "0  11001     1  ...      1          NaN\n",
       "1  11001     1  ...      1          NaN\n",
       "\n",
       "[2 rows x 43 columns]"
      ]
     },
     "execution_count": 13,
     "metadata": {
      "tags": []
     },
     "output_type": "execute_result"
    }
   ],
   "source": [
    "isear_data.head(2)"
   ]
  },
  {
   "cell_type": "code",
   "execution_count": 6,
   "metadata": {},
   "outputs": [
    {
     "data": {
      "text/plain": [
       "(7503, 43)"
      ]
     },
     "execution_count": 6,
     "metadata": {},
     "output_type": "execute_result"
    }
   ],
   "source": [
    "isear_data.shape"
   ]
  },
  {
   "cell_type": "code",
   "execution_count": null,
   "metadata": {
    "colab": {
     "base_uri": "https://localhost:8080/"
    },
    "id": "Kphux0_E8vRw",
    "outputId": "1f979b38-4196-4d8c-f45a-fedcd63149ce"
   },
   "outputs": [
    {
     "data": {
      "text/plain": [
       "(40, 36)"
      ]
     },
     "execution_count": 14,
     "metadata": {
      "tags": []
     },
     "output_type": "execute_result"
    }
   ],
   "source": [
    "isear_data.columns.get_loc(\"SIT\") , isear_data.columns.get_loc(\"Field1\")"
   ]
  },
  {
   "cell_type": "code",
   "execution_count": null,
   "metadata": {
    "id": "fCH9-zrX81Cw"
   },
   "outputs": [],
   "source": [
    "# 15 percentage selected and all three methods selected\n",
    "da = Data_Augmentation(per= 15, Word2vec=True, Wordnet = True , Round_Trip_Translation = True)"
   ]
  },
  {
   "cell_type": "code",
   "execution_count": null,
   "metadata": {
    "colab": {
     "base_uri": "https://localhost:8080/"
    },
    "id": "WyscflHa8mR7",
    "outputId": "c451850a-95b3-4ad6-85ba-1bbd7450a5b3"
   },
   "outputs": [
    {
     "name": "stderr",
     "output_type": "stream",
     "text": [
      "/usr/local/lib/python3.6/dist-packages/gensim/matutils.py:737: FutureWarning: Conversion of the second argument of issubdtype from `int` to `np.signedinteger` is deprecated. In future, it will be treated as `np.int64 == np.dtype(int).type`.\n",
      "  if np.issubdtype(vec.dtype, np.int):\n"
     ]
    }
   ],
   "source": [
    "augmented_data = da.augmentation(data=isear_data , input_idx = 40 , target_idx = 36)"
   ]
  },
  {
   "cell_type": "code",
   "execution_count": null,
   "metadata": {
    "colab": {
     "base_uri": "https://localhost:8080/",
     "height": 311
    },
    "id": "1ESk2BzJGnB6",
    "outputId": "b7af6856-1e34-4de9-f062-c7de355631b0"
   },
   "outputs": [
    {
     "data": {
      "text/html": [
       "<div>\n",
       "<style scoped>\n",
       "    .dataframe tbody tr th:only-of-type {\n",
       "        vertical-align: middle;\n",
       "    }\n",
       "\n",
       "    .dataframe tbody tr th {\n",
       "        vertical-align: top;\n",
       "    }\n",
       "\n",
       "    .dataframe thead th {\n",
       "        text-align: right;\n",
       "    }\n",
       "</style>\n",
       "<table border=\"1\" class=\"dataframe\">\n",
       "  <thead>\n",
       "    <tr style=\"text-align: right;\">\n",
       "      <th></th>\n",
       "      <th>ID</th>\n",
       "      <th>CITY</th>\n",
       "      <th>COUN</th>\n",
       "      <th>SUBJ</th>\n",
       "      <th>SEX</th>\n",
       "      <th>AGE</th>\n",
       "      <th>RELI</th>\n",
       "      <th>PRAC</th>\n",
       "      <th>FOCC</th>\n",
       "      <th>MOCC</th>\n",
       "      <th>FIEL</th>\n",
       "      <th>EMOT</th>\n",
       "      <th>WHEN</th>\n",
       "      <th>LONG</th>\n",
       "      <th>INTS</th>\n",
       "      <th>ERGO</th>\n",
       "      <th>TROPHO</th>\n",
       "      <th>TEMPER</th>\n",
       "      <th>EXPRES</th>\n",
       "      <th>MOVE</th>\n",
       "      <th>EXP1</th>\n",
       "      <th>EXP2</th>\n",
       "      <th>EXP10</th>\n",
       "      <th>PARAL</th>\n",
       "      <th>CON</th>\n",
       "      <th>EXPC</th>\n",
       "      <th>PLEA</th>\n",
       "      <th>PLAN</th>\n",
       "      <th>FAIR</th>\n",
       "      <th>CAUS</th>\n",
       "      <th>COPING</th>\n",
       "      <th>MORL</th>\n",
       "      <th>SELF</th>\n",
       "      <th>RELA</th>\n",
       "      <th>VERBAL</th>\n",
       "      <th>NEUTRO</th>\n",
       "      <th>Field1</th>\n",
       "      <th>Field3</th>\n",
       "      <th>Field2</th>\n",
       "      <th>MYKEY</th>\n",
       "      <th>SIT</th>\n",
       "      <th>STATE</th>\n",
       "      <th>Unnamed: 42</th>\n",
       "    </tr>\n",
       "  </thead>\n",
       "  <tbody>\n",
       "    <tr>\n",
       "      <th>0</th>\n",
       "      <td>261004.0</td>\n",
       "      <td>1.0</td>\n",
       "      <td>26.0</td>\n",
       "      <td>4.0</td>\n",
       "      <td>2.0</td>\n",
       "      <td>27.0</td>\n",
       "      <td>4.0</td>\n",
       "      <td>1.0</td>\n",
       "      <td>7.0</td>\n",
       "      <td>1.0</td>\n",
       "      <td>1.0</td>\n",
       "      <td>5.0</td>\n",
       "      <td>4.0</td>\n",
       "      <td>4.0</td>\n",
       "      <td>3.0</td>\n",
       "      <td>0.0</td>\n",
       "      <td>1.0</td>\n",
       "      <td>0.0</td>\n",
       "      <td>1.0</td>\n",
       "      <td>0.0</td>\n",
       "      <td>0.0</td>\n",
       "      <td>1.0</td>\n",
       "      <td>0.0</td>\n",
       "      <td>0.0</td>\n",
       "      <td>2.0</td>\n",
       "      <td>1.0</td>\n",
       "      <td>3.0</td>\n",
       "      <td>0.0</td>\n",
       "      <td>3.0</td>\n",
       "      <td>2.0</td>\n",
       "      <td>4.0</td>\n",
       "      <td>3.0</td>\n",
       "      <td>3.0</td>\n",
       "      <td>1.0</td>\n",
       "      <td>0.0</td>\n",
       "      <td>2.0</td>\n",
       "      <td>disgust</td>\n",
       "      <td>4.0</td>\n",
       "      <td>3.0</td>\n",
       "      <td>2610045.0</td>\n",
       "      <td>When my husband quarrelled with me for no reas...</td>\n",
       "      <td>1.0</td>\n",
       "      <td>NaN</td>\n",
       "    </tr>\n",
       "    <tr>\n",
       "      <th>1</th>\n",
       "      <td>331027.0</td>\n",
       "      <td>1.0</td>\n",
       "      <td>33.0</td>\n",
       "      <td>27.0</td>\n",
       "      <td>1.0</td>\n",
       "      <td>21.0</td>\n",
       "      <td>8.0</td>\n",
       "      <td>2.0</td>\n",
       "      <td>7.0</td>\n",
       "      <td>4.0</td>\n",
       "      <td>8.0</td>\n",
       "      <td>5.0</td>\n",
       "      <td>1.0</td>\n",
       "      <td>1.0</td>\n",
       "      <td>1.0</td>\n",
       "      <td>0.0</td>\n",
       "      <td>0.0</td>\n",
       "      <td>0.0</td>\n",
       "      <td>0.0</td>\n",
       "      <td>0.0</td>\n",
       "      <td>0.0</td>\n",
       "      <td>0.0</td>\n",
       "      <td>0.0</td>\n",
       "      <td>0.0</td>\n",
       "      <td>1.0</td>\n",
       "      <td>2.0</td>\n",
       "      <td>3.0</td>\n",
       "      <td>2.0</td>\n",
       "      <td>0.0</td>\n",
       "      <td>2.0</td>\n",
       "      <td>4.0</td>\n",
       "      <td>0.0</td>\n",
       "      <td>2.0</td>\n",
       "      <td>2.0</td>\n",
       "      <td>1.0</td>\n",
       "      <td>0.0</td>\n",
       "      <td>disgust</td>\n",
       "      <td>1.0</td>\n",
       "      <td>1.0</td>\n",
       "      <td>3310275.0</td>\n",
       "      <td>During a recent meeting, Mr. A showed his exci...</td>\n",
       "      <td>1.0</td>\n",
       "      <td>NaN</td>\n",
       "    </tr>\n",
       "  </tbody>\n",
       "</table>\n",
       "</div>"
      ],
      "text/plain": [
       "         ID  CITY  ...  STATE  Unnamed: 42\n",
       "0  261004.0   1.0  ...    1.0          NaN\n",
       "1  331027.0   1.0  ...    1.0          NaN\n",
       "\n",
       "[2 rows x 43 columns]"
      ]
     },
     "execution_count": 17,
     "metadata": {
      "tags": []
     },
     "output_type": "execute_result"
    }
   ],
   "source": [
    "augmented_data.head(2)"
   ]
  },
  {
   "cell_type": "code",
   "execution_count": null,
   "metadata": {
    "colab": {
     "base_uri": "https://localhost:8080/"
    },
    "id": "EzhLLJFX88fj",
    "outputId": "ade14edf-ccc0-4456-c8db-b3763386cb5e"
   },
   "outputs": [
    {
     "data": {
      "text/plain": [
       "(8628, 43)"
      ]
     },
     "execution_count": 18,
     "metadata": {
      "tags": []
     },
     "output_type": "execute_result"
    }
   ],
   "source": [
    "augmented_data.shape"
   ]
  },
  {
   "cell_type": "code",
   "execution_count": null,
   "metadata": {
    "colab": {
     "base_uri": "https://localhost:8080/"
    },
    "id": "MTb6JXmv9Fwo",
    "outputId": "c0185901-d539-423e-c5c4-64faab22dce2"
   },
   "outputs": [
    {
     "data": {
      "text/plain": [
       "pandas.core.frame.DataFrame"
      ]
     },
     "execution_count": 19,
     "metadata": {
      "tags": []
     },
     "output_type": "execute_result"
    }
   ],
   "source": [
    "type(augmented_data)"
   ]
  },
  {
   "cell_type": "code",
   "execution_count": null,
   "metadata": {
    "id": "ENU_x7Kg9HXN"
   },
   "outputs": [],
   "source": [
    "# saving the dataframe \n",
    "augmented_data.to_csv('/content/gdrive/MyDrive/CS1/Data/augmented_data_15.csv',index= False) "
   ]
  },
  {
   "cell_type": "markdown",
   "metadata": {},
   "source": [
    "## 3. Loading 15% augmented ISEAR data "
   ]
  },
  {
   "cell_type": "code",
   "execution_count": null,
   "metadata": {
    "id": "yXBISp96_wu4"
   },
   "outputs": [],
   "source": [
    "# bad lines wih too much commas will be dropped\n",
    "augmented_data_15 = pd.read_csv(\"/content/gdrive/MyDrive/CS1/Data/augmented_data_15.csv\",error_bad_lines=False , warn_bad_lines=False)"
   ]
  },
  {
   "cell_type": "code",
   "execution_count": null,
   "metadata": {
    "colab": {
     "base_uri": "https://localhost:8080/"
    },
    "id": "TEDQedXyFi4x",
    "outputId": "44c68d2c-84d1-4af1-d6eb-165623e3596c"
   },
   "outputs": [
    {
     "data": {
      "text/plain": [
       "(7878, 45)"
      ]
     },
     "execution_count": 42,
     "metadata": {
      "tags": []
     },
     "output_type": "execute_result"
    }
   ],
   "source": [
    "augmented_data_15.shape"
   ]
  },
  {
   "cell_type": "code",
   "execution_count": null,
   "metadata": {
    "colab": {
     "base_uri": "https://localhost:8080/",
     "height": 294
    },
    "id": "_LEdV0deFi1P",
    "outputId": "755bfab0-dfb8-4d3e-f17e-aecde4c074c3"
   },
   "outputs": [
    {
     "data": {
      "text/html": [
       "<div>\n",
       "<style scoped>\n",
       "    .dataframe tbody tr th:only-of-type {\n",
       "        vertical-align: middle;\n",
       "    }\n",
       "\n",
       "    .dataframe tbody tr th {\n",
       "        vertical-align: top;\n",
       "    }\n",
       "\n",
       "    .dataframe thead th {\n",
       "        text-align: right;\n",
       "    }\n",
       "</style>\n",
       "<table border=\"1\" class=\"dataframe\">\n",
       "  <thead>\n",
       "    <tr style=\"text-align: right;\">\n",
       "      <th></th>\n",
       "      <th>Unnamed: 0</th>\n",
       "      <th>Unnamed: 0.1</th>\n",
       "      <th>ID</th>\n",
       "      <th>CITY</th>\n",
       "      <th>COUN</th>\n",
       "      <th>SUBJ</th>\n",
       "      <th>SEX</th>\n",
       "      <th>AGE</th>\n",
       "      <th>RELI</th>\n",
       "      <th>PRAC</th>\n",
       "      <th>FOCC</th>\n",
       "      <th>MOCC</th>\n",
       "      <th>FIEL</th>\n",
       "      <th>EMOT</th>\n",
       "      <th>WHEN</th>\n",
       "      <th>LONG</th>\n",
       "      <th>INTS</th>\n",
       "      <th>ERGO</th>\n",
       "      <th>TROPHO</th>\n",
       "      <th>TEMPER</th>\n",
       "      <th>EXPRES</th>\n",
       "      <th>MOVE</th>\n",
       "      <th>EXP1</th>\n",
       "      <th>EXP2</th>\n",
       "      <th>EXP10</th>\n",
       "      <th>PARAL</th>\n",
       "      <th>CON</th>\n",
       "      <th>EXPC</th>\n",
       "      <th>PLEA</th>\n",
       "      <th>PLAN</th>\n",
       "      <th>FAIR</th>\n",
       "      <th>CAUS</th>\n",
       "      <th>COPING</th>\n",
       "      <th>MORL</th>\n",
       "      <th>SELF</th>\n",
       "      <th>RELA</th>\n",
       "      <th>VERBAL</th>\n",
       "      <th>NEUTRO</th>\n",
       "      <th>Field1</th>\n",
       "      <th>Field3</th>\n",
       "      <th>Field2</th>\n",
       "      <th>MYKEY</th>\n",
       "      <th>SIT</th>\n",
       "      <th>STATE</th>\n",
       "      <th>Unnamed: 42</th>\n",
       "    </tr>\n",
       "  </thead>\n",
       "  <tbody>\n",
       "    <tr>\n",
       "      <th>0</th>\n",
       "      <td>0</td>\n",
       "      <td>0</td>\n",
       "      <td>11083.0</td>\n",
       "      <td>1.0</td>\n",
       "      <td>1.0</td>\n",
       "      <td>83.0</td>\n",
       "      <td>1.0</td>\n",
       "      <td>27.0</td>\n",
       "      <td>8.0</td>\n",
       "      <td>2.0</td>\n",
       "      <td>7.0</td>\n",
       "      <td>4.0</td>\n",
       "      <td>1.0</td>\n",
       "      <td>6.0</td>\n",
       "      <td>0.0</td>\n",
       "      <td>0.0</td>\n",
       "      <td>0.0</td>\n",
       "      <td>0.0</td>\n",
       "      <td>0.0</td>\n",
       "      <td>0.0</td>\n",
       "      <td>0.0</td>\n",
       "      <td>0.0</td>\n",
       "      <td>0.0</td>\n",
       "      <td>0.0</td>\n",
       "      <td>0.0</td>\n",
       "      <td>0.0</td>\n",
       "      <td>0.0</td>\n",
       "      <td>0.0</td>\n",
       "      <td>0.0</td>\n",
       "      <td>0.0</td>\n",
       "      <td>0.0</td>\n",
       "      <td>0.0</td>\n",
       "      <td>0.0</td>\n",
       "      <td>0.0</td>\n",
       "      <td>0.0</td>\n",
       "      <td>0.0</td>\n",
       "      <td>0.0</td>\n",
       "      <td>0.0</td>\n",
       "      <td>shame</td>\n",
       "      <td>0.0</td>\n",
       "      <td>0.0</td>\n",
       "      <td>110836.0</td>\n",
       "      <td>[ I do not remember when I last felf ashamed. ...</td>\n",
       "      <td>1.0</td>\n",
       "      <td>NaN</td>\n",
       "    </tr>\n",
       "    <tr>\n",
       "      <th>1</th>\n",
       "      <td>1</td>\n",
       "      <td>1</td>\n",
       "      <td>171061.0</td>\n",
       "      <td>1.0</td>\n",
       "      <td>17.0</td>\n",
       "      <td>61.0</td>\n",
       "      <td>2.0</td>\n",
       "      <td>20.0</td>\n",
       "      <td>2.0</td>\n",
       "      <td>2.0</td>\n",
       "      <td>6.0</td>\n",
       "      <td>6.0</td>\n",
       "      <td>1.0</td>\n",
       "      <td>2.0</td>\n",
       "      <td>2.0</td>\n",
       "      <td>2.0</td>\n",
       "      <td>4.0</td>\n",
       "      <td>4.0</td>\n",
       "      <td>1.0</td>\n",
       "      <td>2.0</td>\n",
       "      <td>3.0</td>\n",
       "      <td>0.0</td>\n",
       "      <td>0.0</td>\n",
       "      <td>0.0</td>\n",
       "      <td>1.0</td>\n",
       "      <td>2.0</td>\n",
       "      <td>0.0</td>\n",
       "      <td>0.0</td>\n",
       "      <td>3.0</td>\n",
       "      <td>0.0</td>\n",
       "      <td>0.0</td>\n",
       "      <td>0.0</td>\n",
       "      <td>1.0</td>\n",
       "      <td>0.0</td>\n",
       "      <td>1.0</td>\n",
       "      <td>0.0</td>\n",
       "      <td>0.0</td>\n",
       "      <td>1.0</td>\n",
       "      <td>fear</td>\n",
       "      <td>2.0</td>\n",
       "      <td>4.0</td>\n",
       "      <td>1710612.0</td>\n",
       "      <td>I was testing my new roller skates in the stre...</td>\n",
       "      <td>1.0</td>\n",
       "      <td>NaN</td>\n",
       "    </tr>\n",
       "  </tbody>\n",
       "</table>\n",
       "</div>"
      ],
      "text/plain": [
       "   Unnamed: 0  Unnamed: 0.1  ...  STATE  Unnamed: 42\n",
       "0           0             0  ...    1.0          NaN\n",
       "1           1             1  ...    1.0          NaN\n",
       "\n",
       "[2 rows x 45 columns]"
      ]
     },
     "execution_count": 43,
     "metadata": {
      "tags": []
     },
     "output_type": "execute_result"
    }
   ],
   "source": [
    "augmented_data_15.head(2)"
   ]
  },
  {
   "cell_type": "code",
   "execution_count": null,
   "metadata": {
    "id": "lHSTqPbxF5rF"
   },
   "outputs": [],
   "source": [
    "augmented_data_15 = augmented_data_15.drop(['Unnamed: 0','Unnamed: 0.1'],axis=1)"
   ]
  },
  {
   "cell_type": "code",
   "execution_count": null,
   "metadata": {
    "colab": {
     "base_uri": "https://localhost:8080/"
    },
    "id": "_FSnPYMJxfPb",
    "outputId": "c15d9c79-9ed2-4a05-a5f2-8421ea4e9d28"
   },
   "outputs": [
    {
     "data": {
      "text/plain": [
       "(7878, 43)"
      ]
     },
     "execution_count": 45,
     "metadata": {
      "tags": []
     },
     "output_type": "execute_result"
    }
   ],
   "source": [
    "augmented_data_15.shape"
   ]
  },
  {
   "cell_type": "code",
   "execution_count": null,
   "metadata": {
    "colab": {
     "base_uri": "https://localhost:8080/",
     "height": 294
    },
    "id": "PQd8kA4OxhOy",
    "outputId": "fb3dff79-2552-4ee1-ea59-d7ef0aef8ddb",
    "scrolled": true
   },
   "outputs": [
    {
     "data": {
      "text/html": [
       "<div>\n",
       "<style scoped>\n",
       "    .dataframe tbody tr th:only-of-type {\n",
       "        vertical-align: middle;\n",
       "    }\n",
       "\n",
       "    .dataframe tbody tr th {\n",
       "        vertical-align: top;\n",
       "    }\n",
       "\n",
       "    .dataframe thead th {\n",
       "        text-align: right;\n",
       "    }\n",
       "</style>\n",
       "<table border=\"1\" class=\"dataframe\">\n",
       "  <thead>\n",
       "    <tr style=\"text-align: right;\">\n",
       "      <th></th>\n",
       "      <th>ID</th>\n",
       "      <th>CITY</th>\n",
       "      <th>COUN</th>\n",
       "      <th>SUBJ</th>\n",
       "      <th>SEX</th>\n",
       "      <th>AGE</th>\n",
       "      <th>RELI</th>\n",
       "      <th>PRAC</th>\n",
       "      <th>FOCC</th>\n",
       "      <th>MOCC</th>\n",
       "      <th>FIEL</th>\n",
       "      <th>EMOT</th>\n",
       "      <th>WHEN</th>\n",
       "      <th>LONG</th>\n",
       "      <th>INTS</th>\n",
       "      <th>ERGO</th>\n",
       "      <th>TROPHO</th>\n",
       "      <th>TEMPER</th>\n",
       "      <th>EXPRES</th>\n",
       "      <th>MOVE</th>\n",
       "      <th>EXP1</th>\n",
       "      <th>EXP2</th>\n",
       "      <th>EXP10</th>\n",
       "      <th>PARAL</th>\n",
       "      <th>CON</th>\n",
       "      <th>EXPC</th>\n",
       "      <th>PLEA</th>\n",
       "      <th>PLAN</th>\n",
       "      <th>FAIR</th>\n",
       "      <th>CAUS</th>\n",
       "      <th>COPING</th>\n",
       "      <th>MORL</th>\n",
       "      <th>SELF</th>\n",
       "      <th>RELA</th>\n",
       "      <th>VERBAL</th>\n",
       "      <th>NEUTRO</th>\n",
       "      <th>Field1</th>\n",
       "      <th>Field3</th>\n",
       "      <th>Field2</th>\n",
       "      <th>MYKEY</th>\n",
       "      <th>SIT</th>\n",
       "      <th>STATE</th>\n",
       "      <th>Unnamed: 42</th>\n",
       "    </tr>\n",
       "  </thead>\n",
       "  <tbody>\n",
       "    <tr>\n",
       "      <th>0</th>\n",
       "      <td>11083.0</td>\n",
       "      <td>1.0</td>\n",
       "      <td>1.0</td>\n",
       "      <td>83.0</td>\n",
       "      <td>1.0</td>\n",
       "      <td>27.0</td>\n",
       "      <td>8.0</td>\n",
       "      <td>2.0</td>\n",
       "      <td>7.0</td>\n",
       "      <td>4.0</td>\n",
       "      <td>1.0</td>\n",
       "      <td>6.0</td>\n",
       "      <td>0.0</td>\n",
       "      <td>0.0</td>\n",
       "      <td>0.0</td>\n",
       "      <td>0.0</td>\n",
       "      <td>0.0</td>\n",
       "      <td>0.0</td>\n",
       "      <td>0.0</td>\n",
       "      <td>0.0</td>\n",
       "      <td>0.0</td>\n",
       "      <td>0.0</td>\n",
       "      <td>0.0</td>\n",
       "      <td>0.0</td>\n",
       "      <td>0.0</td>\n",
       "      <td>0.0</td>\n",
       "      <td>0.0</td>\n",
       "      <td>0.0</td>\n",
       "      <td>0.0</td>\n",
       "      <td>0.0</td>\n",
       "      <td>0.0</td>\n",
       "      <td>0.0</td>\n",
       "      <td>0.0</td>\n",
       "      <td>0.0</td>\n",
       "      <td>0.0</td>\n",
       "      <td>0.0</td>\n",
       "      <td>shame</td>\n",
       "      <td>0.0</td>\n",
       "      <td>0.0</td>\n",
       "      <td>110836.0</td>\n",
       "      <td>[ I do not remember when I last felf ashamed. ...</td>\n",
       "      <td>1.0</td>\n",
       "      <td>NaN</td>\n",
       "    </tr>\n",
       "    <tr>\n",
       "      <th>1</th>\n",
       "      <td>171061.0</td>\n",
       "      <td>1.0</td>\n",
       "      <td>17.0</td>\n",
       "      <td>61.0</td>\n",
       "      <td>2.0</td>\n",
       "      <td>20.0</td>\n",
       "      <td>2.0</td>\n",
       "      <td>2.0</td>\n",
       "      <td>6.0</td>\n",
       "      <td>6.0</td>\n",
       "      <td>1.0</td>\n",
       "      <td>2.0</td>\n",
       "      <td>2.0</td>\n",
       "      <td>2.0</td>\n",
       "      <td>4.0</td>\n",
       "      <td>4.0</td>\n",
       "      <td>1.0</td>\n",
       "      <td>2.0</td>\n",
       "      <td>3.0</td>\n",
       "      <td>0.0</td>\n",
       "      <td>0.0</td>\n",
       "      <td>0.0</td>\n",
       "      <td>1.0</td>\n",
       "      <td>2.0</td>\n",
       "      <td>0.0</td>\n",
       "      <td>0.0</td>\n",
       "      <td>3.0</td>\n",
       "      <td>0.0</td>\n",
       "      <td>0.0</td>\n",
       "      <td>0.0</td>\n",
       "      <td>1.0</td>\n",
       "      <td>0.0</td>\n",
       "      <td>1.0</td>\n",
       "      <td>0.0</td>\n",
       "      <td>0.0</td>\n",
       "      <td>1.0</td>\n",
       "      <td>fear</td>\n",
       "      <td>2.0</td>\n",
       "      <td>4.0</td>\n",
       "      <td>1710612.0</td>\n",
       "      <td>I was testing my new roller skates in the stre...</td>\n",
       "      <td>1.0</td>\n",
       "      <td>NaN</td>\n",
       "    </tr>\n",
       "  </tbody>\n",
       "</table>\n",
       "</div>"
      ],
      "text/plain": [
       "         ID  CITY  ...  STATE  Unnamed: 42\n",
       "0   11083.0   1.0  ...    1.0          NaN\n",
       "1  171061.0   1.0  ...    1.0          NaN\n",
       "\n",
       "[2 rows x 43 columns]"
      ]
     },
     "execution_count": 46,
     "metadata": {
      "tags": []
     },
     "output_type": "execute_result"
    }
   ],
   "source": [
    "augmented_data_15.head(2)"
   ]
  },
  {
   "cell_type": "code",
   "execution_count": null,
   "metadata": {
    "id": "S_AjIc1l_9pt"
   },
   "outputs": [],
   "source": [
    "da = Data_Augmentation(per=15, Word2vec=True, Wordnet = True , Round_Trip_Translation = False)"
   ]
  },
  {
   "cell_type": "code",
   "execution_count": null,
   "metadata": {
    "colab": {
     "base_uri": "https://localhost:8080/"
    },
    "id": "UakIy1SqADjm",
    "outputId": "509e93d6-1295-406f-d0f0-89a1dff96d49"
   },
   "outputs": [
    {
     "name": "stderr",
     "output_type": "stream",
     "text": [
      "/usr/local/lib/python3.6/dist-packages/gensim/matutils.py:737: FutureWarning: Conversion of the second argument of issubdtype from `int` to `np.signedinteger` is deprecated. In future, it will be treated as `np.int64 == np.dtype(int).type`.\n",
      "  if np.issubdtype(vec.dtype, np.int):\n"
     ]
    }
   ],
   "source": [
    "augmented_data = da.augmentation(augmented_data_15 , input_idx = 40 , target_idx = 36)"
   ]
  },
  {
   "cell_type": "code",
   "execution_count": null,
   "metadata": {
    "colab": {
     "base_uri": "https://localhost:8080/"
    },
    "id": "IiY__YZjAKVB",
    "outputId": "1418965f-d131-429c-e4f0-6875a90860c6"
   },
   "outputs": [
    {
     "data": {
      "text/plain": [
       "(9058, 43)"
      ]
     },
     "execution_count": 49,
     "metadata": {
      "tags": []
     },
     "output_type": "execute_result"
    }
   ],
   "source": [
    "augmented_data.shape"
   ]
  },
  {
   "cell_type": "code",
   "execution_count": null,
   "metadata": {
    "id": "rR5j_9ZUui5X"
   },
   "outputs": [],
   "source": [
    "# saving the dataframe \n",
    "augmented_data.to_csv('/content/gdrive/MyDrive/CS1/Data/augmented_data_30.csv',index= False) "
   ]
  },
  {
   "cell_type": "markdown",
   "metadata": {},
   "source": [
    "## 4. Loading 30% augmented ISEAR data "
   ]
  },
  {
   "cell_type": "code",
   "execution_count": null,
   "metadata": {
    "id": "y9Apf4FzuqhC"
   },
   "outputs": [],
   "source": [
    "# bad lines wih too much commas will be dropped\n",
    "augmented_data_30 = pd.read_csv(\"/content/gdrive/MyDrive/CS1/Data/augmented_data_30.csv\",error_bad_lines=False , warn_bad_lines=False)"
   ]
  },
  {
   "cell_type": "code",
   "execution_count": null,
   "metadata": {
    "colab": {
     "base_uri": "https://localhost:8080/"
    },
    "id": "5KBvXJYk9F8z",
    "outputId": "ec11fa3d-3e22-4151-9049-d85767fd443a"
   },
   "outputs": [
    {
     "data": {
      "text/plain": [
       "(9058, 43)"
      ]
     },
     "execution_count": 14,
     "metadata": {
      "tags": []
     },
     "output_type": "execute_result"
    }
   ],
   "source": [
    "augmented_data_30.shape"
   ]
  },
  {
   "cell_type": "code",
   "execution_count": null,
   "metadata": {
    "colab": {
     "base_uri": "https://localhost:8080/",
     "height": 311
    },
    "id": "JbyylNYq9LRH",
    "outputId": "1c430211-7c01-4d2b-fcad-2725cab84396"
   },
   "outputs": [
    {
     "data": {
      "text/html": [
       "<div>\n",
       "<style scoped>\n",
       "    .dataframe tbody tr th:only-of-type {\n",
       "        vertical-align: middle;\n",
       "    }\n",
       "\n",
       "    .dataframe tbody tr th {\n",
       "        vertical-align: top;\n",
       "    }\n",
       "\n",
       "    .dataframe thead th {\n",
       "        text-align: right;\n",
       "    }\n",
       "</style>\n",
       "<table border=\"1\" class=\"dataframe\">\n",
       "  <thead>\n",
       "    <tr style=\"text-align: right;\">\n",
       "      <th></th>\n",
       "      <th>ID</th>\n",
       "      <th>CITY</th>\n",
       "      <th>COUN</th>\n",
       "      <th>SUBJ</th>\n",
       "      <th>SEX</th>\n",
       "      <th>AGE</th>\n",
       "      <th>RELI</th>\n",
       "      <th>PRAC</th>\n",
       "      <th>FOCC</th>\n",
       "      <th>MOCC</th>\n",
       "      <th>FIEL</th>\n",
       "      <th>EMOT</th>\n",
       "      <th>WHEN</th>\n",
       "      <th>LONG</th>\n",
       "      <th>INTS</th>\n",
       "      <th>ERGO</th>\n",
       "      <th>TROPHO</th>\n",
       "      <th>TEMPER</th>\n",
       "      <th>EXPRES</th>\n",
       "      <th>MOVE</th>\n",
       "      <th>EXP1</th>\n",
       "      <th>EXP2</th>\n",
       "      <th>EXP10</th>\n",
       "      <th>PARAL</th>\n",
       "      <th>CON</th>\n",
       "      <th>EXPC</th>\n",
       "      <th>PLEA</th>\n",
       "      <th>PLAN</th>\n",
       "      <th>FAIR</th>\n",
       "      <th>CAUS</th>\n",
       "      <th>COPING</th>\n",
       "      <th>MORL</th>\n",
       "      <th>SELF</th>\n",
       "      <th>RELA</th>\n",
       "      <th>VERBAL</th>\n",
       "      <th>NEUTRO</th>\n",
       "      <th>Field1</th>\n",
       "      <th>Field3</th>\n",
       "      <th>Field2</th>\n",
       "      <th>MYKEY</th>\n",
       "      <th>SIT</th>\n",
       "      <th>STATE</th>\n",
       "      <th>Unnamed: 42</th>\n",
       "    </tr>\n",
       "  </thead>\n",
       "  <tbody>\n",
       "    <tr>\n",
       "      <th>0</th>\n",
       "      <td>121041.0</td>\n",
       "      <td>1.0</td>\n",
       "      <td>12.0</td>\n",
       "      <td>41.0</td>\n",
       "      <td>2.0</td>\n",
       "      <td>20.0</td>\n",
       "      <td>8.0</td>\n",
       "      <td>2.0</td>\n",
       "      <td>7.0</td>\n",
       "      <td>7.0</td>\n",
       "      <td>1.0</td>\n",
       "      <td>2.0</td>\n",
       "      <td>3.0</td>\n",
       "      <td>1.0</td>\n",
       "      <td>1.0</td>\n",
       "      <td>1.0</td>\n",
       "      <td>0.0</td>\n",
       "      <td>0.0</td>\n",
       "      <td>1.0</td>\n",
       "      <td>0.0</td>\n",
       "      <td>0.0</td>\n",
       "      <td>0.0</td>\n",
       "      <td>0.0</td>\n",
       "      <td>0.0</td>\n",
       "      <td>3.0</td>\n",
       "      <td>2.0</td>\n",
       "      <td>2.0</td>\n",
       "      <td>2.0</td>\n",
       "      <td>1.0</td>\n",
       "      <td>1.0</td>\n",
       "      <td>2.0</td>\n",
       "      <td>1.0</td>\n",
       "      <td>2.0</td>\n",
       "      <td>2.0</td>\n",
       "      <td>0.0</td>\n",
       "      <td>0.0</td>\n",
       "      <td>fear</td>\n",
       "      <td>1.0</td>\n",
       "      <td>1.0</td>\n",
       "      <td>1210412.0</td>\n",
       "      <td>When I come home late at night.</td>\n",
       "      <td>1.0</td>\n",
       "      <td>NaN</td>\n",
       "    </tr>\n",
       "    <tr>\n",
       "      <th>1</th>\n",
       "      <td>41041.0</td>\n",
       "      <td>1.0</td>\n",
       "      <td>4.0</td>\n",
       "      <td>41.0</td>\n",
       "      <td>2.0</td>\n",
       "      <td>22.0</td>\n",
       "      <td>1.0</td>\n",
       "      <td>1.0</td>\n",
       "      <td>6.0</td>\n",
       "      <td>6.0</td>\n",
       "      <td>2.0</td>\n",
       "      <td>7.0</td>\n",
       "      <td>1.0</td>\n",
       "      <td>2.0</td>\n",
       "      <td>1.0</td>\n",
       "      <td>1.0</td>\n",
       "      <td>0.0</td>\n",
       "      <td>1.0</td>\n",
       "      <td>0.0</td>\n",
       "      <td>0.0</td>\n",
       "      <td>0.0</td>\n",
       "      <td>0.0</td>\n",
       "      <td>0.0</td>\n",
       "      <td>0.0</td>\n",
       "      <td>2.0</td>\n",
       "      <td>1.0</td>\n",
       "      <td>3.0</td>\n",
       "      <td>2.0</td>\n",
       "      <td>2.0</td>\n",
       "      <td>0.0</td>\n",
       "      <td>5.0</td>\n",
       "      <td>0.0</td>\n",
       "      <td>3.0</td>\n",
       "      <td>0.0</td>\n",
       "      <td>3.0</td>\n",
       "      <td>0.0</td>\n",
       "      <td>guilt</td>\n",
       "      <td>2.0</td>\n",
       "      <td>1.0</td>\n",
       "      <td>410417.0</td>\n",
       "      <td>When I noticed that my little sister was sulki...</td>\n",
       "      <td>1.0</td>\n",
       "      <td>NaN</td>\n",
       "    </tr>\n",
       "  </tbody>\n",
       "</table>\n",
       "</div>"
      ],
      "text/plain": [
       "         ID  CITY  ...  STATE  Unnamed: 42\n",
       "0  121041.0   1.0  ...    1.0          NaN\n",
       "1   41041.0   1.0  ...    1.0          NaN\n",
       "\n",
       "[2 rows x 43 columns]"
      ]
     },
     "execution_count": 15,
     "metadata": {
      "tags": []
     },
     "output_type": "execute_result"
    }
   ],
   "source": [
    "augmented_data_30.head(2)"
   ]
  },
  {
   "cell_type": "code",
   "execution_count": null,
   "metadata": {
    "id": "iptGLh799PKs"
   },
   "outputs": [],
   "source": [
    "da = Data_Augmentation(per=15, Word2vec=True, Wordnet = False , Round_Trip_Translation = True)"
   ]
  },
  {
   "cell_type": "code",
   "execution_count": null,
   "metadata": {
    "colab": {
     "base_uri": "https://localhost:8080/"
    },
    "id": "wVImw3xR9IMG",
    "outputId": "94cf63a3-b204-4229-ec01-5a6917cf6bcd"
   },
   "outputs": [
    {
     "name": "stderr",
     "output_type": "stream",
     "text": [
      "/usr/local/lib/python3.6/dist-packages/gensim/matutils.py:737: FutureWarning: Conversion of the second argument of issubdtype from `int` to `np.signedinteger` is deprecated. In future, it will be treated as `np.int64 == np.dtype(int).type`.\n",
      "  if np.issubdtype(vec.dtype, np.int):\n"
     ]
    }
   ],
   "source": [
    "aug_data = da.augmentation(augmented_data_30 , input_idx = 40 , target_idx = 36)"
   ]
  },
  {
   "cell_type": "code",
   "execution_count": null,
   "metadata": {
    "id": "aPkpP78ourSu"
   },
   "outputs": [],
   "source": [
    "#saving the dataframe \n",
    "aug_data.to_csv('/content/gdrive/MyDrive/CS1/Data/augmented_data_45.csv',index= False) "
   ]
  },
  {
   "cell_type": "markdown",
   "metadata": {},
   "source": [
    "## 5. Loading 45% augmented ISEAR data "
   ]
  },
  {
   "cell_type": "code",
   "execution_count": null,
   "metadata": {
    "id": "JfHWH_e-VjQ2"
   },
   "outputs": [],
   "source": [
    "# bad lines wih too much commas will be dropped\n",
    "augmented_data_45 = pd.read_csv(\"/content/gdrive/MyDrive/CS1/Data/augmented_data_45.csv\",error_bad_lines=False , warn_bad_lines=False)"
   ]
  },
  {
   "cell_type": "code",
   "execution_count": null,
   "metadata": {
    "colab": {
     "base_uri": "https://localhost:8080/"
    },
    "id": "BQTUsUp4VzIe",
    "outputId": "2d893cb7-f258-44da-d3ae-6936450ec32c"
   },
   "outputs": [
    {
     "data": {
      "text/plain": [
       "(10416, 43)"
      ]
     },
     "execution_count": 20,
     "metadata": {
      "tags": []
     },
     "output_type": "execute_result"
    }
   ],
   "source": [
    "augmented_data_45.shape"
   ]
  },
  {
   "cell_type": "code",
   "execution_count": null,
   "metadata": {
    "id": "nvJ7fDSsV2By"
   },
   "outputs": [],
   "source": [
    "da = Data_Augmentation(per=15, Word2vec=False, Wordnet = True, Round_Trip_Translation = True)"
   ]
  },
  {
   "cell_type": "code",
   "execution_count": null,
   "metadata": {
    "id": "zQmGf2CNWDIL"
   },
   "outputs": [],
   "source": [
    "aug_data = da.augmentation(augmented_data_45 , input_idx = 40 , target_idx = 36)"
   ]
  },
  {
   "cell_type": "code",
   "execution_count": null,
   "metadata": {
    "id": "-ZkZ3Rx-WJnw"
   },
   "outputs": [],
   "source": [
    "#saving the dataframe \n",
    "aug_data.to_csv('/content/gdrive/MyDrive/CS1/Data/augmented_data_60.csv',index= False) "
   ]
  },
  {
   "cell_type": "markdown",
   "metadata": {},
   "source": [
    "## 6. Loading 60% augmented ISEAR data "
   ]
  },
  {
   "cell_type": "code",
   "execution_count": null,
   "metadata": {
    "id": "RFK2XxY9bHiT"
   },
   "outputs": [],
   "source": [
    "# bad lines wih too much commas will be dropped\n",
    "augmented_data_60 = pd.read_csv(\"/content/gdrive/MyDrive/CS1/Data/augmented_data_60.csv\",error_bad_lines=False , warn_bad_lines=False)"
   ]
  },
  {
   "cell_type": "code",
   "execution_count": null,
   "metadata": {
    "colab": {
     "base_uri": "https://localhost:8080/"
    },
    "id": "fJNRf-3fbQcx",
    "outputId": "bf143e7e-8a4d-4a13-c785-c4e0b7b4804c"
   },
   "outputs": [
    {
     "data": {
      "text/plain": [
       "(11978, 43)"
      ]
     },
     "execution_count": 25,
     "metadata": {
      "tags": []
     },
     "output_type": "execute_result"
    }
   ],
   "source": [
    "augmented_data_60.shape"
   ]
  },
  {
   "cell_type": "code",
   "execution_count": null,
   "metadata": {
    "id": "PFjE7lbGbRxi"
   },
   "outputs": [],
   "source": [
    "da = Data_Augmentation(per=15, Word2vec=True, Wordnet = False, Round_Trip_Translation = False)"
   ]
  },
  {
   "cell_type": "code",
   "execution_count": null,
   "metadata": {
    "colab": {
     "base_uri": "https://localhost:8080/"
    },
    "id": "-8YGJNrJbhQB",
    "outputId": "cf010aea-8015-4f79-ca1b-64f17c04c346"
   },
   "outputs": [
    {
     "name": "stderr",
     "output_type": "stream",
     "text": [
      "/usr/local/lib/python3.6/dist-packages/gensim/matutils.py:737: FutureWarning: Conversion of the second argument of issubdtype from `int` to `np.signedinteger` is deprecated. In future, it will be treated as `np.int64 == np.dtype(int).type`.\n",
      "  if np.issubdtype(vec.dtype, np.int):\n"
     ]
    }
   ],
   "source": [
    "aug_data = da.augmentation(augmented_data_60 , input_idx = 40 , target_idx = 36)"
   ]
  },
  {
   "cell_type": "code",
   "execution_count": null,
   "metadata": {
    "id": "jfkUVjl3blS3"
   },
   "outputs": [],
   "source": [
    "#saving the dataframe \n",
    "aug_data.to_csv('/content/gdrive/MyDrive/CS1/Data/augmented_data_75.csv',index= False) "
   ]
  },
  {
   "cell_type": "markdown",
   "metadata": {},
   "source": [
    "## 7. Loading 75% augmented ISEAR data "
   ]
  },
  {
   "cell_type": "code",
   "execution_count": null,
   "metadata": {
    "id": "0v5PdYqj55fj"
   },
   "outputs": [],
   "source": [
    "# bad lines wih too much commas will be dropped\n",
    "augmented_data_75 = pd.read_csv(\"/content/gdrive/MyDrive/CS1/Data/augmented_data_75.csv\",error_bad_lines=False , warn_bad_lines=False)"
   ]
  },
  {
   "cell_type": "code",
   "execution_count": null,
   "metadata": {
    "colab": {
     "base_uri": "https://localhost:8080/"
    },
    "id": "p978mR9P6ARW",
    "outputId": "accba721-dd91-4b10-8654-1f5816264318"
   },
   "outputs": [
    {
     "data": {
      "text/plain": [
       "(13774, 43)"
      ]
     },
     "execution_count": 30,
     "metadata": {
      "tags": []
     },
     "output_type": "execute_result"
    }
   ],
   "source": [
    "augmented_data_75.shape"
   ]
  },
  {
   "cell_type": "code",
   "execution_count": null,
   "metadata": {
    "id": "mJCI7mx_6D8c"
   },
   "outputs": [],
   "source": [
    "da = Data_Augmentation(per=15, Word2vec=True, Wordnet = True, Round_Trip_Translation = True)"
   ]
  },
  {
   "cell_type": "code",
   "execution_count": null,
   "metadata": {
    "colab": {
     "base_uri": "https://localhost:8080/"
    },
    "id": "kc1axL5k6RQQ",
    "outputId": "0782d935-df5e-4f9c-a1a8-b6baef2dd3c5"
   },
   "outputs": [
    {
     "name": "stderr",
     "output_type": "stream",
     "text": [
      "/usr/local/lib/python3.6/dist-packages/gensim/matutils.py:737: FutureWarning: Conversion of the second argument of issubdtype from `int` to `np.signedinteger` is deprecated. In future, it will be treated as `np.int64 == np.dtype(int).type`.\n",
      "  if np.issubdtype(vec.dtype, np.int):\n"
     ]
    }
   ],
   "source": [
    "aug_data = da.augmentation(augmented_data_75 , input_idx = 40 , target_idx = 36)"
   ]
  },
  {
   "cell_type": "code",
   "execution_count": null,
   "metadata": {
    "id": "v_wgIA796V76"
   },
   "outputs": [],
   "source": [
    "#saving the dataframe \n",
    "aug_data.to_csv('/content/gdrive/MyDrive/CS1/Data/augmented_data_90.csv',index= False) "
   ]
  },
  {
   "cell_type": "markdown",
   "metadata": {},
   "source": [
    "## 8. Loading 90% augmented ISEAR data "
   ]
  },
  {
   "cell_type": "code",
   "execution_count": null,
   "metadata": {
    "id": "pDGmOwJZGHzg"
   },
   "outputs": [],
   "source": [
    "# bad lines wih too much commas will be dropped\n",
    "augmented_data_90 = pd.read_csv(\"/content/gdrive/MyDrive/CS1/Data/augmented_data_90.csv\",error_bad_lines=False , warn_bad_lines=False)"
   ]
  },
  {
   "cell_type": "code",
   "execution_count": null,
   "metadata": {
    "colab": {
     "base_uri": "https://localhost:8080/"
    },
    "id": "TDDrllipGNV5",
    "outputId": "04491481-fa1b-43af-8f40-6f8f47dfc5f0"
   },
   "outputs": [
    {
     "data": {
      "text/plain": [
       "(15838, 43)"
      ]
     },
     "execution_count": 35,
     "metadata": {
      "tags": []
     },
     "output_type": "execute_result"
    }
   ],
   "source": [
    "augmented_data_90.shape"
   ]
  },
  {
   "cell_type": "code",
   "execution_count": null,
   "metadata": {
    "id": "E_NgEQYWGQ6U"
   },
   "outputs": [],
   "source": [
    "a = Data_Augmentation(per=10, Word2vec=True, Wordnet = True, Round_Trip_Translation = True)"
   ]
  },
  {
   "cell_type": "code",
   "execution_count": null,
   "metadata": {
    "colab": {
     "base_uri": "https://localhost:8080/"
    },
    "id": "kRE72oyyGejS",
    "outputId": "0aa3f592-baa5-4300-b775-83d69a0ef9e7"
   },
   "outputs": [
    {
     "name": "stderr",
     "output_type": "stream",
     "text": [
      "/usr/local/lib/python3.6/dist-packages/gensim/matutils.py:737: FutureWarning: Conversion of the second argument of issubdtype from `int` to `np.signedinteger` is deprecated. In future, it will be treated as `np.int64 == np.dtype(int).type`.\n",
      "  if np.issubdtype(vec.dtype, np.int):\n"
     ]
    }
   ],
   "source": [
    "aug_data = da.augmentation(augmented_data_90 , input_idx = 40 , target_idx = 36)"
   ]
  },
  {
   "cell_type": "code",
   "execution_count": null,
   "metadata": {
    "id": "tsEEv4tFJQ9L"
   },
   "outputs": [],
   "source": [
    "aug_data.to_csv('/content/gdrive/MyDrive/CS1/Data/isear_100p_augmented.csv',index= False) "
   ]
  },
  {
   "cell_type": "code",
   "execution_count": null,
   "metadata": {
    "id": "5fX2Hn97NTsu"
   },
   "outputs": [],
   "source": [
    "# bad lines wih too much commas will be dropped\n",
    "augmented_data_100 = pd.read_csv(\"/content/gdrive/MyDrive/CS1/Data/isear_100p_augmented.csv\",error_bad_lines=False , warn_bad_lines=False)"
   ]
  },
  {
   "cell_type": "code",
   "execution_count": null,
   "metadata": {
    "colab": {
     "base_uri": "https://localhost:8080/"
    },
    "id": "CGTEy9diNnkL",
    "outputId": "99b91efb-128e-4cf1-fcaf-eeeadb1497cf"
   },
   "outputs": [
    {
     "data": {
      "text/plain": [
       "(18211, 43)"
      ]
     },
     "execution_count": 40,
     "metadata": {
      "tags": []
     },
     "output_type": "execute_result"
    }
   ],
   "source": [
    "augmented_data_100.shape"
   ]
  },
  {
   "cell_type": "markdown",
   "metadata": {},
   "source": [
    "Observation : The ISEAR data is 100% augmented and now the current shape of the data is (18211, 43) ."
   ]
  },
  {
   "cell_type": "code",
   "execution_count": null,
   "metadata": {},
   "outputs": [],
   "source": []
  }
 ],
 "metadata": {
  "colab": {
   "collapsed_sections": [],
   "name": "new_module_1_augmentation.ipynb",
   "provenance": []
  },
  "kernelspec": {
   "display_name": "Python 3",
   "language": "python",
   "name": "python3"
  },
  "language_info": {
   "codemirror_mode": {
    "name": "ipython",
    "version": 3
   },
   "file_extension": ".py",
   "mimetype": "text/x-python",
   "name": "python",
   "nbconvert_exporter": "python",
   "pygments_lexer": "ipython3",
   "version": "3.7.4"
  }
 },
 "nbformat": 4,
 "nbformat_minor": 1
}
